{
  "nbformat": 4,
  "nbformat_minor": 0,
  "metadata": {
    "colab": {
      "name": "fundamentos.ipynb",
      "provenance": [],
      "collapsed_sections": [],
      "authorship_tag": "ABX9TyNeng3/doWJxHr8LUPdeJ+G",
      "include_colab_link": true
    },
    "kernelspec": {
      "name": "python3",
      "display_name": "Python 3"
    },
    "language_info": {
      "name": "python"
    }
  },
  "cells": [
    {
      "cell_type": "markdown",
      "metadata": {
        "id": "view-in-github",
        "colab_type": "text"
      },
      "source": [
        "<a href=\"https://colab.research.google.com/github/jrodolf0/python/blob/main/fundamentos.ipynb\" target=\"_parent\"><img src=\"https://colab.research.google.com/assets/colab-badge.svg\" alt=\"Open In Colab\"/></a>"
      ]
    },
    {
      "cell_type": "code",
      "execution_count": null,
      "metadata": {
        "colab": {
          "base_uri": "https://localhost:8080/"
        },
        "id": "08C7-1TornHv",
        "outputId": "e0bd34d1-da33-44a2-cb8b-661cad02044b"
      },
      "outputs": [
        {
          "output_type": "stream",
          "name": "stdout",
          "text": [
            "introduce el valor de el lado: 4\n",
            "el perimetro del cuadrado es: 16.0\n"
          ]
        }
      ],
      "source": [
        "# EERCICIO 1 Realizar la carga del lado de un cuadrado, mostrar por pantalla el perímetro del mismo (El perímetro de un cuadrado se calcula multiplicando el valor del lado por cuatro).\n",
        "\n",
        "lado = float(input('introduce el valor de el lado: '))\n",
        "\n",
        "\n",
        "perimetro = (lado * 4)\n",
        "\n",
        "print(f'el perimetro del cuadrado es: {perimetro}')\n",
        "\n",
        "\n"
      ]
    },
    {
      "cell_type": "code",
      "source": [
        "# EJERCICO 2 Escribir un programa en el cual se ingresen cuatro números, calcular e informar la suma de los dos primeros y el producto del tercero y el cuarto.\n",
        "\n",
        "#entrada de datos\n",
        "numero1 = float(input(\"ingrese el numero: \"))\n",
        "numero2 = float(input(\"ingrese el numero: \"))\n",
        "numero3 = float(input(\"ingrese el numero: \"))\n",
        "numero4 = float(input(\"ingrese el numero: \"))\n",
        "\n",
        "# operacion\n"
      ],
      "metadata": {
        "id": "H9dfP4qCwHAX"
      },
      "execution_count": null,
      "outputs": []
    }
  ]
}